{
 "cells": [
  {
   "cell_type": "code",
   "execution_count": 20,
   "metadata": {},
   "outputs": [],
   "source": [
    "import pandas as pd\n",
    "import numpy as np\n",
    "from support_file.extraction import dataextractor as de\n",
    "from support_file.cleaning import datacleaning as dc\n",
    "path_product = './data/training_data/Products.csv'\n",
    "path_image = './data/training_data/Images.csv'\n",
    "\n",
    "df = de().data_extract_csv(path_product)\n",
    "df = dc().clean_csv_file(df)\n",
    "df_image = de().data_extract_csv(path_image)\n",
    "df[['category:0','category:1','category:2']] = df[\"category\"].apply(lambda x: pd.Series(str(x).split(' / ',2)))\n"
   ]
  },
  {
   "cell_type": "code",
   "execution_count": 21,
   "metadata": {},
   "outputs": [
    {
     "name": "stdout",
     "output_type": "stream",
     "text": [
      "<class 'pandas.core.frame.DataFrame'>\n",
      "RangeIndex: 12604 entries, 0 to 12603\n",
      "Data columns (total 13 columns):\n",
      " #   Column               Non-Null Count  Dtype  \n",
      "---  ------               --------------  -----  \n",
      " 0   index                12604 non-null  int64  \n",
      " 1   label                12604 non-null  object \n",
      " 2   product_name         12604 non-null  object \n",
      " 3   category             12604 non-null  object \n",
      " 4   product_description  12604 non-null  object \n",
      " 5   price                12604 non-null  float64\n",
      " 6   location             12604 non-null  object \n",
      " 7   category:0           12604 non-null  object \n",
      " 8   category:1           12604 non-null  object \n",
      " 9   category:2           7772 non-null   object \n",
      " 10  Unnamed: 0           12604 non-null  int64  \n",
      " 11  id_y                 12604 non-null  object \n",
      " 12  product_id           12604 non-null  object \n",
      "dtypes: float64(1), int64(2), object(10)\n",
      "memory usage: 1.3+ MB\n"
     ]
    }
   ],
   "source": [
    "new_test_data_csv = pd.merge(df,df_image,left_on = 'id',right_on='product_id',how = 'inner')\n",
    "#new_test_data_csv.info()\n",
    "new_test_data_csv.rename(columns={'id_x':'label'},inplace='True')\n",
    "new_test_data_csv.info()\n",
    "new_test_data_csv.to_csv('./data/training_data/training_data.csv')"
   ]
  },
  {
   "cell_type": "code",
   "execution_count": 24,
   "metadata": {},
   "outputs": [
    {
     "name": "stdout",
     "output_type": "stream",
     "text": [
      "{0: 'Home & Garden ', 1: 'Baby & Kids Stuff ', 2: 'DIY Tools & Materials ', 3: 'Music, Films, Books & Games ', 4: 'Phones, Mobile Phones & Telecoms ', 5: 'Clothes, Footwear & Accessories ', 6: 'Other Goods ', 7: 'Health & Beauty ', 8: 'Sports, Leisure & Travel ', 9: 'Appliances ', 10: 'Computers & Software ', 11: 'Office Furniture & Equipment ', 12: 'Video Games & Consoles '}\n"
     ]
    }
   ],
   "source": [
    "category = df[\"category\"]\n",
    "root_category = category.str.split(\"/\", expand=True)[0].unique()\n",
    "cat_encoder = {}\n",
    "cat_decoder = {}\n",
    "for _ in range(len(root_category)):\n",
    "    cat_encoder[root_category[_]]=_\n",
    "    cat_decoder[_]= root_category[_]\n",
    "print(cat_decoder)"
   ]
  }
 ],
 "metadata": {
  "kernelspec": {
   "display_name": "Python 3",
   "language": "python",
   "name": "python3"
  },
  "language_info": {
   "codemirror_mode": {
    "name": "ipython",
    "version": 3
   },
   "file_extension": ".py",
   "mimetype": "text/x-python",
   "name": "python",
   "nbconvert_exporter": "python",
   "pygments_lexer": "ipython3",
   "version": "3.11.4"
  },
  "orig_nbformat": 4
 },
 "nbformat": 4,
 "nbformat_minor": 2
}
